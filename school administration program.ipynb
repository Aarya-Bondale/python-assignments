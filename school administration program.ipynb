{
 "cells": [
  {
   "cell_type": "code",
   "execution_count": null,
   "metadata": {},
   "outputs": [],
   "source": [
    "#Project 1: Basic school administration tool\n",
    "import csv\n",
    "def write_into_csv(info_list):\n",
    "    with open('student_info.csv' , 'a' , newline='')as csv_file:\n",
    "        writer = csv.writer(csv_file)\n",
    "        \n",
    "        if csv_file.tell() ==0:\n",
    "            writer.writerow([\"Name\",\"Age\",\"Contact Number\",\"E-mail ID\"])\n",
    "        writer.writerow(info_list)\n",
    "        \n",
    "if __name__=='__main__':\n",
    "    condition = True\n",
    "    student_num = 1\n",
    "    \n",
    "    while(condition):\n",
    "            student_info = input(\"Enter some student infoemation for student #{} in the following format (Name Age Contact_Number E_Mail_ID):\".format(student_num))\n",
    "            print(\"Entered information\" + student_info) \n",
    "    \n",
    "    #split\n",
    "    student_info_list=student_info.split(' ')\n",
    "    print(\"Entered splid up information is:\" + str(student_info_list))\n",
    "    \n",
    "    print(\"\\nThe entered information is-\\nName: {}\\nContact_Number: {}\\nEmail_ID: {}\".format(student_info_list[0],student_info_list[1],student_info_list[2],student_info_list[3]))\n",
    "    \n",
    "    choice_check = input(\"Is the entered information correct? (yes/no):\")\n",
    "     if choice_check ==\"yes\":\n",
    "            write_into_csv(student_ifo_list)\n",
    "            \n",
    "            condition_check = input(\"Enter (yes/no) if you want to enter information for another student\")\n",
    "            if condition_check ==\"yes\":\n",
    "                condition = True\n",
    "                student_num = student_num + 1\n",
    "                elif condition_check ==\"no\":\n",
    "                    condition = False\n",
    "    elif choice_check == \"no\":\n",
    "        print(\"\\nPlease reenter the values!!\")\n",
    "        \n",
    "                    "
   ]
  },
  {
   "cell_type": "code",
   "execution_count": null,
   "metadata": {},
   "outputs": [],
   "source": []
  }
 ],
 "metadata": {
  "kernelspec": {
   "display_name": "Python 3",
   "language": "python",
   "name": "python3"
  },
  "language_info": {
   "codemirror_mode": {
    "name": "ipython",
    "version": 3
   },
   "file_extension": ".py",
   "mimetype": "text/x-python",
   "name": "python",
   "nbconvert_exporter": "python",
   "pygments_lexer": "ipython3",
   "version": "3.7.6"
  }
 },
 "nbformat": 4,
 "nbformat_minor": 4
}
